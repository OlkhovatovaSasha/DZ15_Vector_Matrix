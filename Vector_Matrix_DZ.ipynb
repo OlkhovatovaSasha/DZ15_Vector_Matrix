{
 "cells": [
  {
   "cell_type": "markdown",
   "metadata": {},
   "source": [
    "# <center> Вектора и матрицы\n",
    "## <center>Домашняя работа\n",
    "#### Выполнила: Александра Ольховатова\n",
    "#### группа: pyda-8a"
   ]
  },
  {
   "cell_type": "code",
   "execution_count": 1,
   "metadata": {},
   "outputs": [],
   "source": [
    "import numpy as np\n",
    "import matplotlib.pyplot as plt"
   ]
  },
  {
   "cell_type": "markdown",
   "metadata": {},
   "source": [
    "### <center> Задание 1\n",
    "Изобразите с помощью matplotlib. Изобразите точку x + 2y + 3z. Найдите угол между векторами x, y и x, z."
   ]
  },
  {
   "cell_type": "code",
   "execution_count": 2,
   "metadata": {},
   "outputs": [],
   "source": [
    "x = np.array([1,1])\n",
    "y = np.array([2, 0])\n",
    "z = np.array([0,2])\n",
    "\n",
    "f = x +  2*y + 3*z"
   ]
  },
  {
   "cell_type": "code",
   "execution_count": 3,
   "metadata": {},
   "outputs": [
    {
     "data": {
      "text/plain": [
       "<matplotlib.collections.PathCollection at 0x23b1e63c508>"
      ]
     },
     "execution_count": 3,
     "metadata": {},
     "output_type": "execute_result"
    },
    {
     "data": {
      "image/png": "[encoded data removed]",
      "text/plain": [
       "<Figure size 432x288 with 1 Axes>"
      ]
     },
     "metadata": {
      "needs_background": "light"
     },
     "output_type": "display_data"
    }
   ],
   "source": [
    "plt.title(\"Точка: x +2y + 3z\") \n",
    "plt.xlabel(\"ось X\") \n",
    "plt.ylabel(\"ось Y\") \n",
    "plt.grid()      \n",
    "\n",
    "plt.scatter(f[0], f[1])"
   ]
  },
  {
   "cell_type": "code",
   "execution_count": 4,
   "metadata": {},
   "outputs": [],
   "source": [
    "cos_x_y = np.dot(x, y) / (np.linalg.norm(x) * np.linalg.norm(y))\n",
    "cos_x_z = np.dot(x, z) / (np.linalg.norm(x) * np.linalg.norm(z))\n",
    "angle_x_y = np.arccos(cos_x_y)*180/np.pi\n",
    "angle_x_z = np.arccos(cos_x_z)*180/np.pi"
   ]
  },
  {
   "cell_type": "code",
   "execution_count": 5,
   "metadata": {},
   "outputs": [
    {
     "name": "stdout",
     "output_type": "stream",
     "text": [
      "Угол между X и Y:  45.0  градусов\n",
      "Угол между X и Z:  45.0  градусов\n"
     ]
    }
   ],
   "source": [
    "print ('Угол между X и Y: ', round(angle_x_y), ' градусов')\n",
    "print ('Угол между X и Z: ', round(angle_x_z), ' градусов')"
   ]
  },
  {
   "cell_type": "markdown",
   "metadata": {},
   "source": [
    "### <center> Задание 2\n",
    "Найдите собственные значения и собственные вектора матриц (необходимо решение на numpy и решение по алгоритму на бумажке).\n",
    "    \n",
    "Для матрицы 3x3 можно посмотреть на корни характеристического многочлена, посчитанные в numpy."
   ]
  },
  {
   "cell_type": "code",
   "execution_count": 6,
   "metadata": {},
   "outputs": [],
   "source": [
    "m1 = np.array([[2, 2],\n",
    "               [1, 3]])\n",
    "\n",
    "m2 = np.array([[4, 1, -1],\n",
    "               [1, 4, -1],\n",
    "               [-1, -1, 4]])"
   ]
  },
  {
   "cell_type": "code",
   "execution_count": 7,
   "metadata": {},
   "outputs": [],
   "source": [
    "w1, v1 = np.linalg.eig(m1)\n",
    "w2, v2 = np.linalg.eig(m2)"
   ]
  },
  {
   "cell_type": "code",
   "execution_count": 8,
   "metadata": {},
   "outputs": [
    {
     "name": "stdout",
     "output_type": "stream",
     "text": [
      "Собственное значение 1 1.0\n",
      "соответствующий ему собственный вектор 1 [-0.89442719  0.4472136 ]\n",
      "Собственное значение 1 4.0\n",
      "соответствующий ему собственный вектор 1 [-0.70710678 -0.70710678]\n"
     ]
    }
   ],
   "source": [
    "for i in range(len(w1)):\n",
    "    print(\"Собственное значение 1 \" + str(w1[i]))\n",
    "    print(\"соответствующий ему собственный вектор 1 \" + str(v1[:,i]))"
   ]
  },
  {
   "cell_type": "code",
   "execution_count": 9,
   "metadata": {},
   "outputs": [
    {
     "name": "stdout",
     "output_type": "stream",
     "text": [
      "Собственное значение 2 2.999999999999999\n",
      "соответствующий ему собственный вектор 2 [-0.81649658  0.40824829 -0.40824829]\n",
      "Собственное значение 2 5.999999999999997\n",
      "соответствующий ему собственный вектор 2 [ 0.57735027  0.57735027 -0.57735027]\n",
      "Собственное значение 2 2.9999999999999996\n",
      "соответствующий ему собственный вектор 2 [-0.27658128  0.8035929   0.52701162]\n"
     ]
    }
   ],
   "source": [
    "for i in range(len(w2)):\n",
    "    print(\"Собственное значение 2 \" + str(w2[i]))\n",
    "    print(\"соответствующий ему собственный вектор 2 \" + str(v2[:,i]))"
   ]
  },
  {
   "cell_type": "markdown",
   "metadata": {},
   "source": [
    "### <center> Задание 3\n",
    "Найдите сингулярное разложение матрицы."
   ]
  },
  {
   "cell_type": "code",
   "execution_count": 10,
   "metadata": {},
   "outputs": [],
   "source": [
    "m3 = np.array([[1, 2],\n",
    "               [2, 3]])"
   ]
  },
  {
   "cell_type": "code",
   "execution_count": 11,
   "metadata": {},
   "outputs": [
    {
     "name": "stdout",
     "output_type": "stream",
     "text": [
      "[ 4.23606798 -0.23606798]\n"
     ]
    }
   ],
   "source": [
    "U, D, V = np.linalg.svd(m3)\n",
    "A = U.dot(D.dot(V))\n",
    "print(A)"
   ]
  }
 ],
 "metadata": {
  "kernelspec": {
   "display_name": "Python 3",
   "language": "python",
   "name": "python3"
  },
  "language_info": {
   "codemirror_mode": {
    "name": "ipython",
    "version": 3
   },
   "file_extension": ".py",
   "mimetype": "text/x-python",
   "name": "python",
   "nbconvert_exporter": "python",
   "pygments_lexer": "ipython3",
   "version": "3.7.4"
  }
 },
 "nbformat": 4,
 "nbformat_minor": 2
}
